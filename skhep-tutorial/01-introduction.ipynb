{
 "cells": [
  {
   "cell_type": "markdown",
   "id": "0",
   "metadata": {},
   "source": [
    "# Introduction: Python background"
   ]
  },
  {
   "cell_type": "markdown",
   "id": "1",
   "metadata": {
    "editable": true,
    "slideshow": {
     "slide_type": ""
    },
    "tags": []
   },
   "source": [
    "# How much Python do we need to know?\n",
    "\n",
    "## Basic Python\n",
    "\n",
    "Most students start this module after a Python introduction or are already familiar with the *basics* of Python. For instance, you should be comfortable with the Python essentials such as assigning variables,"
   ]
  },
  {
   "cell_type": "code",
   "execution_count": null,
   "id": "2",
   "metadata": {
    "editable": true,
    "slideshow": {
     "slide_type": ""
    },
    "tags": []
   },
   "outputs": [],
   "source": [
    "x = 5"
   ]
  },
  {
   "cell_type": "markdown",
   "id": "3",
   "metadata": {},
   "source": [
    "if-statements,"
   ]
  },
  {
   "cell_type": "code",
   "execution_count": null,
   "id": "4",
   "metadata": {},
   "outputs": [],
   "source": [
    "if x < 5:\n",
    "    print(\"small\")\n",
    "else:\n",
    "    print(\"big\")"
   ]
  },
  {
   "cell_type": "markdown",
   "id": "5",
   "metadata": {},
   "source": [
    "and loops."
   ]
  },
  {
   "cell_type": "code",
   "execution_count": null,
   "id": "6",
   "metadata": {},
   "outputs": [],
   "source": [
    "for i in range(x):\n",
    "    print(i)"
   ]
  },
  {
   "cell_type": "markdown",
   "id": "7",
   "metadata": {
    "editable": true,
    "slideshow": {
     "slide_type": ""
    },
    "tags": []
   },
   "source": [
    "Your data analysis will likely be full of statements like these, though the kinds of operations we'll be focusing on in this module have a form more like\n",
    "\n",
    "```python\n",
    "import compiled_library\n",
    "\n",
    "compiled_library.do_computationally_expensive_thing(big_array)\n",
    "```\n",
    "\n",
    "The trick is for the Python-side code to be expressive enough and the compiled code to be general enough that you don't need a new `compiled_library` for each thing you want to do. The libraries presented in this module are designed with interfaces that let you express what you want to do in Python and have it run in compiled code."
   ]
  },
  {
   "cell_type": "markdown",
   "id": "8",
   "metadata": {
    "editable": true,
    "slideshow": {
     "slide_type": ""
    },
    "tags": []
   },
   "source": [
    "## Dict-like and array-like interfaces\n",
    "\n",
    "The two most important data types for these interfaces are dicts"
   ]
  },
  {
   "cell_type": "code",
   "execution_count": null,
   "id": "9",
   "metadata": {
    "editable": true,
    "slideshow": {
     "slide_type": ""
    },
    "tags": []
   },
   "outputs": [],
   "source": [
    "some_dict = {\"word\": 1, \"another word\": 2, \"some other word\": 3}"
   ]
  },
  {
   "cell_type": "code",
   "execution_count": null,
   "id": "10",
   "metadata": {},
   "outputs": [],
   "source": [
    "some_dict[\"some other word\"]"
   ]
  },
  {
   "cell_type": "code",
   "execution_count": null,
   "id": "11",
   "metadata": {},
   "outputs": [],
   "source": [
    "for key in some_dict:\n",
    "    print(key, some_dict[key])"
   ]
  },
  {
   "cell_type": "markdown",
   "id": "12",
   "metadata": {},
   "source": [
    "and arrays"
   ]
  },
  {
   "cell_type": "code",
   "execution_count": null,
   "id": "13",
   "metadata": {},
   "outputs": [],
   "source": [
    "import numpy as np\n",
    "\n",
    "some_array = np.array([0.0, 1.1, 2.2, 3.3, 4.4, 5.5, 6.6, 7.7, 8.8, 9.9])"
   ]
  },
  {
   "cell_type": "code",
   "execution_count": null,
   "id": "14",
   "metadata": {},
   "outputs": [],
   "source": [
    "some_array[4]"
   ]
  },
  {
   "cell_type": "code",
   "execution_count": null,
   "id": "15",
   "metadata": {},
   "outputs": [],
   "source": [
    "for x in some_array:\n",
    "    print(x)"
   ]
  },
  {
   "cell_type": "markdown",
   "id": "16",
   "metadata": {
    "editable": true,
    "slideshow": {
     "slide_type": ""
    },
    "tags": []
   },
   "source": [
    "Although these data types are important, what's more important is the *interfaces* to these types. They both represent functions from keys to values:\n",
    "\n",
    "- dicts (usually) map from strings to Python objects,\n",
    "- arrays (always) map from non-negative integers to numerical values.\n",
    "\n",
    "Most of the types we will see in this module also map strings or integers to data, and they use the same syntax as dicts and arrays. If you're familiar with the dict and array interfaces, you usually won't have to look up documentation on dict-like and array-like types unless you're trying to do something special."
   ]
  },
  {
   "cell_type": "markdown",
   "id": "17",
   "metadata": {
    "editable": true,
    "slideshow": {
     "slide_type": ""
    },
    "tags": []
   },
   "source": [
    "## Review of the dict interface\n",
    "\n",
    "For dicts, the things that can go in square brackets (its \"domain,\" as a function) are its `keys`.\n"
   ]
  },
  {
   "cell_type": "code",
   "execution_count": null,
   "id": "18",
   "metadata": {
    "editable": true,
    "slideshow": {
     "slide_type": ""
    },
    "tags": []
   },
   "outputs": [],
   "source": [
    "some_dict = {\"word\": 1, \"another word\": 2, \"some other word\": 3}\n",
    "some_dict.keys()"
   ]
  },
  {
   "cell_type": "markdown",
   "id": "19",
   "metadata": {},
   "source": [
    "Nothing other than these keys can be used in square brackets"
   ]
  },
  {
   "cell_type": "code",
   "execution_count": null,
   "id": "20",
   "metadata": {
    "editable": true,
    "slideshow": {
     "slide_type": ""
    },
    "tags": [
     "raises-exception"
    ]
   },
   "outputs": [],
   "source": [
    "some_dict[\"something I made up\"]"
   ]
  },
  {
   "cell_type": "markdown",
   "id": "21",
   "metadata": {
    "editable": true,
    "slideshow": {
     "slide_type": ""
    },
    "tags": []
   },
   "source": [
    "unless it has been added to the dict."
   ]
  },
  {
   "cell_type": "code",
   "execution_count": null,
   "id": "22",
   "metadata": {
    "editable": true,
    "slideshow": {
     "slide_type": ""
    },
    "tags": []
   },
   "outputs": [],
   "source": [
    "some_dict[\"something I made up\"] = 123\n",
    "some_dict[\"something I made up\"]"
   ]
  },
  {
   "cell_type": "markdown",
   "id": "23",
   "metadata": {
    "editable": true,
    "slideshow": {
     "slide_type": ""
    },
    "tags": []
   },
   "source": [
    "The things that can come out of a dict (its \"range,\" as a function) are its `values`."
   ]
  },
  {
   "cell_type": "code",
   "execution_count": null,
   "id": "24",
   "metadata": {
    "editable": true,
    "slideshow": {
     "slide_type": ""
    },
    "tags": []
   },
   "outputs": [],
   "source": [
    "some_dict.values()"
   ]
  },
  {
   "cell_type": "markdown",
   "id": "25",
   "metadata": {
    "editable": true,
    "slideshow": {
     "slide_type": ""
    },
    "tags": []
   },
   "source": [
    "You can get keys and values as 2-tuples by asking for its `items`."
   ]
  },
  {
   "cell_type": "code",
   "execution_count": null,
   "id": "26",
   "metadata": {
    "editable": true,
    "slideshow": {
     "slide_type": ""
    },
    "tags": []
   },
   "outputs": [],
   "source": [
    "some_dict.items()"
   ]
  },
  {
   "cell_type": "code",
   "execution_count": null,
   "id": "27",
   "metadata": {
    "editable": true,
    "slideshow": {
     "slide_type": ""
    },
    "tags": []
   },
   "outputs": [],
   "source": [
    "for key, value in some_dict.items():\n",
    "    print(key, value)"
   ]
  },
  {
   "cell_type": "markdown",
   "id": "28",
   "metadata": {
    "editable": true,
    "slideshow": {
     "slide_type": ""
    },
    "tags": []
   },
   "source": [
    "## Review of the array interface\n",
    "\n",
    "For arrays, the things that can go in square brackets (its \"domain,\" as a function) are integers from zero up to but not including its length."
   ]
  },
  {
   "cell_type": "code",
   "execution_count": null,
   "id": "29",
   "metadata": {
    "editable": true,
    "slideshow": {
     "slide_type": ""
    },
    "tags": []
   },
   "outputs": [],
   "source": [
    "import numpy as np\n",
    "\n",
    "some_array = np.array([0.0, 1.1, 2.2, 3.3, 4.4, 5.5, 6.6, 7.7, 8.8, 9.9])"
   ]
  },
  {
   "cell_type": "code",
   "execution_count": null,
   "id": "30",
   "metadata": {
    "editable": true,
    "slideshow": {
     "slide_type": ""
    },
    "tags": []
   },
   "outputs": [],
   "source": [
    "some_array[0]  # okay"
   ]
  },
  {
   "cell_type": "code",
   "execution_count": null,
   "id": "31",
   "metadata": {
    "editable": true,
    "slideshow": {
     "slide_type": ""
    },
    "tags": []
   },
   "outputs": [],
   "source": [
    "some_array[1]  # okay"
   ]
  },
  {
   "cell_type": "code",
   "execution_count": null,
   "id": "32",
   "metadata": {
    "editable": true,
    "slideshow": {
     "slide_type": ""
    },
    "tags": []
   },
   "outputs": [],
   "source": [
    "some_array[9]  # okay"
   ]
  },
  {
   "cell_type": "code",
   "execution_count": null,
   "id": "33",
   "metadata": {
    "editable": true,
    "slideshow": {
     "slide_type": ""
    },
    "tags": [
     "raises-exception"
    ]
   },
   "outputs": [],
   "source": [
    "some_array[10]  # not okay"
   ]
  },
  {
   "cell_type": "markdown",
   "id": "34",
   "metadata": {
    "editable": true,
    "slideshow": {
     "slide_type": ""
    },
    "tags": []
   },
   "source": [
    "You can get the length of an array (and the number of keys in a dict) with `len`:"
   ]
  },
  {
   "cell_type": "code",
   "execution_count": null,
   "id": "35",
   "metadata": {
    "editable": true,
    "slideshow": {
     "slide_type": ""
    },
    "tags": []
   },
   "outputs": [],
   "source": [
    "len(some_array)"
   ]
  },
  {
   "cell_type": "markdown",
   "id": "36",
   "metadata": {
    "editable": true,
    "slideshow": {
     "slide_type": ""
    },
    "tags": []
   },
   "source": [
    "It's important to remember that index `0` corresponds to the first item in the array, `1` to the second, and so on, which is why `len(some_array)` is not a valid index.\n",
    "\n",
    "Negative indexes are allowed, but they count from the end of the list to the beginning. For instance,"
   ]
  },
  {
   "cell_type": "code",
   "execution_count": null,
   "id": "37",
   "metadata": {
    "editable": true,
    "slideshow": {
     "slide_type": ""
    },
    "tags": []
   },
   "outputs": [],
   "source": [
    "some_array[-1]"
   ]
  },
  {
   "cell_type": "markdown",
   "id": "38",
   "metadata": {
    "editable": true,
    "slideshow": {
     "slide_type": ""
    },
    "tags": []
   },
   "source": [
    "returns the last item. **Quick quiz:** which negative value returns the first item, equivalent to `0`?\n",
    "\n",
    "Arrays can also be \"sliced\" by putting a colon (`:`) between the starting and stopping index."
   ]
  },
  {
   "cell_type": "code",
   "execution_count": null,
   "id": "39",
   "metadata": {
    "editable": true,
    "slideshow": {
     "slide_type": ""
    },
    "tags": []
   },
   "outputs": [],
   "source": [
    "some_array[2:7]"
   ]
  },
  {
   "cell_type": "markdown",
   "id": "40",
   "metadata": {
    "editable": true,
    "slideshow": {
     "slide_type": ""
    },
    "tags": []
   },
   "source": [
    "**Quick quiz:** why is `7.7` not included in the output?\n",
    "\n",
    "The above is common to all Python sequences. Arrays, however, can be multidimensional and this allows for more kinds of slicing."
   ]
  },
  {
   "cell_type": "code",
   "execution_count": null,
   "id": "41",
   "metadata": {
    "editable": true,
    "slideshow": {
     "slide_type": ""
    },
    "tags": []
   },
   "outputs": [],
   "source": [
    "array3d = np.arange(2 * 3 * 5).reshape(2, 3, 5)"
   ]
  },
  {
   "cell_type": "markdown",
   "id": "42",
   "metadata": {
    "editable": true,
    "slideshow": {
     "slide_type": ""
    },
    "tags": []
   },
   "source": [
    "Separating two slices in the square brackets with a comma"
   ]
  },
  {
   "cell_type": "code",
   "execution_count": null,
   "id": "43",
   "metadata": {
    "editable": true,
    "slideshow": {
     "slide_type": ""
    },
    "tags": []
   },
   "outputs": [],
   "source": [
    "array3d[:, 1:, 1:]"
   ]
  },
  {
   "cell_type": "markdown",
   "id": "44",
   "metadata": {
    "editable": true,
    "slideshow": {
     "slide_type": ""
    },
    "tags": []
   },
   "source": [
    "selects the following:\n",
    "\n",
    "![array3d-highlight1](img/array3d-highlight1.png)\n",
    "\n",
    "**Quick quiz:** how do you select the following?\n",
    "\n",
    "![array3d-highlight2](img/array3d-highlight2.png)"
   ]
  },
  {
   "cell_type": "markdown",
   "id": "45",
   "metadata": {
    "editable": true,
    "slideshow": {
     "slide_type": ""
    },
    "tags": []
   },
   "source": [
    "## Filtering with booleans and integers: \"cuts\"\n",
    "\n",
    "In addition to integers and slices, arrays can be included in the square brackets.\n",
    "\n",
    "An array of booleans with the same length as the sliced array selects all items that line up with `True`."
   ]
  },
  {
   "cell_type": "code",
   "execution_count": null,
   "id": "46",
   "metadata": {
    "editable": true,
    "slideshow": {
     "slide_type": ""
    },
    "tags": []
   },
   "outputs": [],
   "source": [
    "some_array = np.array([0.0, 1.1, 2.2, 3.3, 4.4, 5.5, 6.6, 7.7, 8.8, 9.9])\n",
    "boolean_array = np.array(\n",
    "    [True, True, True, True, True, False, True, False, True, False]\n",
    ")\n",
    "\n",
    "some_array[boolean_array]"
   ]
  },
  {
   "cell_type": "markdown",
   "id": "47",
   "metadata": {
    "editable": true,
    "slideshow": {
     "slide_type": ""
    },
    "tags": []
   },
   "source": [
    "An array of integers selects items by index."
   ]
  },
  {
   "cell_type": "code",
   "execution_count": null,
   "id": "48",
   "metadata": {
    "editable": true,
    "slideshow": {
     "slide_type": ""
    },
    "tags": []
   },
   "outputs": [],
   "source": [
    "some_array = np.array([0.0, 1.1, 2.2, 3.3, 4.4, 5.5, 6.6, 7.7, 8.8, 9.9])\n",
    "integer_array = np.array([0, 1, 2, 3, 4, 6, 8])\n",
    "\n",
    "some_array[integer_array]"
   ]
  },
  {
   "cell_type": "markdown",
   "id": "49",
   "metadata": {
    "editable": true,
    "slideshow": {
     "slide_type": ""
    },
    "tags": []
   },
   "source": [
    "Integer-slicing is more general than boolean-slicing because an array of integers can also change the order of the data and repeat items."
   ]
  },
  {
   "cell_type": "code",
   "execution_count": null,
   "id": "50",
   "metadata": {
    "editable": true,
    "slideshow": {
     "slide_type": ""
    },
    "tags": []
   },
   "outputs": [],
   "source": [
    "some_array[np.array([4, 2, 2, 2, 9, 8, 3])]"
   ]
  },
  {
   "cell_type": "markdown",
   "id": "51",
   "metadata": {
    "editable": true,
    "slideshow": {
     "slide_type": ""
    },
    "tags": []
   },
   "source": [
    "Both come up in natural contexts. Boolean arrays often come from performing a calculation on all elements of an array that returns boolean values."
   ]
  },
  {
   "cell_type": "code",
   "execution_count": null,
   "id": "52",
   "metadata": {
    "editable": true,
    "slideshow": {
     "slide_type": ""
    },
    "tags": []
   },
   "outputs": [],
   "source": [
    "even_valued_items = some_array * 10 % 2 == 0\n",
    "\n",
    "some_array[even_valued_items]"
   ]
  },
  {
   "cell_type": "markdown",
   "id": "53",
   "metadata": {
    "editable": true,
    "slideshow": {
     "slide_type": ""
    },
    "tags": []
   },
   "source": [
    "This is how we'll be computing and applying cuts: expressions like\n",
    "\n",
    "```python\n",
    "good_muon_cut = (muons.pt > 10) & (abs(muons.eta) < 2.4)\n",
    "\n",
    "good_muons = muons[good_muon_cut]\n",
    "```"
   ]
  },
  {
   "cell_type": "markdown",
   "id": "54",
   "metadata": {
    "editable": true,
    "slideshow": {
     "slide_type": ""
    },
    "tags": []
   },
   "source": [
    "## Logical operators: `&`, `|`, `~`, and parentheses\n",
    "\n",
    "If you're coming from C++, you might expect \"and,\" \"or,\" \"not\" to be `&&`, `||`, `!`.\n",
    "\n",
    "If you're coming from non-array Python, you might expect them to be `and`, `or`, `not`.\n",
    "\n",
    "In array expressions (unfortunately!), we have to use Python's bitwise operators, `&`, `|`, `~`, and ensure that comparisons are surrounded in parentheses. Python's `and`, `or`, `not` are not applied across arrays and bitwise operators have a surprising operator-precedence."
   ]
  },
  {
   "cell_type": "code",
   "execution_count": null,
   "id": "55",
   "metadata": {
    "editable": true,
    "slideshow": {
     "slide_type": ""
    },
    "tags": []
   },
   "outputs": [],
   "source": [
    "x = 0\n",
    "\n",
    "x > -10 & x < 10  # probably not what you expect!"
   ]
  },
  {
   "cell_type": "code",
   "execution_count": null,
   "id": "56",
   "metadata": {
    "editable": true,
    "slideshow": {
     "slide_type": ""
    },
    "tags": []
   },
   "outputs": [],
   "source": [
    "(x > -10) & (x < 10)"
   ]
  },
  {
   "cell_type": "markdown",
   "id": "57",
   "metadata": {
    "editable": true,
    "slideshow": {
     "slide_type": ""
    },
    "tags": []
   },
   "source": [
    "![bitwise-operator-parentheses](img/bitwise-operator-parentheses.png)"
   ]
  },
  {
   "cell_type": "markdown",
   "id": "58",
   "metadata": {
    "editable": true,
    "slideshow": {
     "slide_type": ""
    },
    "tags": []
   },
   "source": [
    "# What is \"array-oriented\" or \"columnar\" processing?\n",
    "\n",
    "Expressions like"
   ]
  },
  {
   "cell_type": "code",
   "execution_count": null,
   "id": "59",
   "metadata": {
    "editable": true,
    "slideshow": {
     "slide_type": ""
    },
    "tags": []
   },
   "outputs": [],
   "source": [
    "even_valued_items = some_array * 10 % 2 == 0"
   ]
  },
  {
   "cell_type": "markdown",
   "id": "60",
   "metadata": {
    "editable": true,
    "slideshow": {
     "slide_type": ""
    },
    "tags": []
   },
   "source": [
    "perform the `*`, `%`, and `==` operations on every item of `some_array` and return arrays. Without NumPy, the above would have to be written as"
   ]
  },
  {
   "cell_type": "code",
   "execution_count": null,
   "id": "61",
   "metadata": {
    "editable": true,
    "slideshow": {
     "slide_type": ""
    },
    "tags": []
   },
   "outputs": [],
   "source": [
    "even_valued_items = []\n",
    "\n",
    "for x in some_array:\n",
    "    even_valued_items.append(x * 10 % 2 == 0)"
   ]
  },
  {
   "cell_type": "markdown",
   "id": "62",
   "metadata": {
    "editable": true,
    "slideshow": {
     "slide_type": ""
    },
    "tags": []
   },
   "source": [
    "This is more cumbersome when you want to apply a mathematical formula to every item of a collection, but it is also considerably slower. Every step in a Python `for` loop performs sanity checks that are unnecessary for numerical values with uniform type, checks that would happen at compile-time in a compiled library. NumPy *is* a compiled library; its `*`, `%`, and `==` operators, as well as many other functions, are performed in fast, compiled loops.\n",
    "\n",
    "This is how we get expressiveness and speed. Languages with operators that apply array at a time, rather than one scalar value at a time, are called \"array-oriented\" or \"columnar\" (referring to, for instance, Pandas DataFrame columns).\n",
    "\n",
    "Quite a few interactive, data-analysis languages are array-oriented, deriving from the original APL. \"Array-oriented\" is a programming paradigm in the same sense as \"functional\" or \"object-oriented.\"\n",
    "\n",
    "![apl-timeline](img/apl-timeline.png)"
   ]
  },
  {
   "cell_type": "markdown",
   "id": "63",
   "metadata": {
    "editable": true,
    "slideshow": {
     "slide_type": ""
    },
    "tags": []
   },
   "source": [
    "# What is a \"software ecosystem\"?\n",
    "\n",
    "Some programming environments, like Mathematica, Emacs, and ROOT, attempt to provide you with everything you need in one package. There's only one thing to install and components within the framework should work well together because they were developed together. However, it can be hard to use the framework with other, unrelated software packages.\n",
    "\n",
    "Ecosystems, like UNIX, iOS App Store, and Python, consist of many small software packages that each do one thing and know how to communicate with other packages through conventions and protocols. There's usually a centralized installation mechanism, and it is the user's (your) responsibility to piece together what you need. However, the set of possibilities is open-ended and grows as needs develop.\n",
    "\n",
    "In mainstream Python, this means that\n",
    "\n",
    "- NumPy *only* deals with arrays,\n",
    "- Pandas *only* deals with tables,\n",
    "- Matplotlib *only* plots,\n",
    "- Jupyter *only* provides a notebook interface,\n",
    "- Scikit-Learn *only* does machine learning,\n",
    "- h5py *only* interfaces with HDF5 files,\n",
    "- etc.\n",
    "\n",
    "Python packages for high-energy physics are being developed with a similar model:\n",
    "\n",
    "- Uproot *only* reads and writes ROOT files,\n",
    "- Awkward Array *only* deals with arrays of irregular types,\n",
    "- hist *only* deals with histograms,\n",
    "- iminuit *only* optimizes,\n",
    "- zfit *only* fits,\n",
    "- Particle *only* provides PDG-style data,\n",
    "- etc.\n",
    "\n",
    "To make things easier to find, they're cataloged under a common name at [scikit-hep.org](https://scikit-hep.org).\n",
    "\n",
    "![scikit-hep-logos](img/scikit-hep-logos.png)"
   ]
  },
  {
   "cell_type": "code",
   "execution_count": null,
   "id": "64",
   "metadata": {
    "editable": true,
    "slideshow": {
     "slide_type": ""
    },
    "tags": []
   },
   "outputs": [],
   "source": []
  }
 ],
 "metadata": {
  "kernelspec": {
   "display_name": "Python 3 (ipykernel)",
   "language": "python",
   "name": "python3"
  },
  "language_info": {
   "codemirror_mode": {
    "name": "ipython",
    "version": 3
   },
   "file_extension": ".py",
   "mimetype": "text/x-python",
   "name": "python",
   "nbconvert_exporter": "python",
   "pygments_lexer": "ipython3",
   "version": "3.13.7"
  }
 },
 "nbformat": 4,
 "nbformat_minor": 5
}
